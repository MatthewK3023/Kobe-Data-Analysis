{
 "cells": [
  {
   "cell_type": "code",
   "execution_count": 1,
   "metadata": {},
   "outputs": [],
   "source": [
    "import numpy as np\n",
    "import pandas as pd\n",
    "import matplotlib.pyplot as plt"
   ]
  },
  {
   "cell_type": "code",
   "execution_count": 2,
   "metadata": {},
   "outputs": [],
   "source": [
    "data=pd.read_csv(\"kobe.csv\")"
   ]
  },
  {
   "cell_type": "code",
   "execution_count": 3,
   "metadata": {},
   "outputs": [
    {
     "data": {
      "text/html": [
       "<div>\n",
       "<style scoped>\n",
       "    .dataframe tbody tr th:only-of-type {\n",
       "        vertical-align: middle;\n",
       "    }\n",
       "\n",
       "    .dataframe tbody tr th {\n",
       "        vertical-align: top;\n",
       "    }\n",
       "\n",
       "    .dataframe thead th {\n",
       "        text-align: right;\n",
       "    }\n",
       "</style>\n",
       "<table border=\"1\" class=\"dataframe\">\n",
       "  <thead>\n",
       "    <tr style=\"text-align: right;\">\n",
       "      <th></th>\n",
       "      <th>action_type</th>\n",
       "      <th>combined_shot_type</th>\n",
       "      <th>game_id</th>\n",
       "      <th>minutes_remaining</th>\n",
       "      <th>period</th>\n",
       "      <th>playoffs</th>\n",
       "      <th>season</th>\n",
       "      <th>seconds_remaining</th>\n",
       "      <th>shot_distance</th>\n",
       "      <th>shot_made_flag</th>\n",
       "      <th>shot_type</th>\n",
       "      <th>shot_zone_area</th>\n",
       "      <th>shot_zone_basic</th>\n",
       "      <th>game_date</th>\n",
       "      <th>matchup</th>\n",
       "      <th>opponent</th>\n",
       "    </tr>\n",
       "  </thead>\n",
       "  <tbody>\n",
       "    <tr>\n",
       "      <th>0</th>\n",
       "      <td>Jump Shot</td>\n",
       "      <td>Jump Shot</td>\n",
       "      <td>20000012</td>\n",
       "      <td>10</td>\n",
       "      <td>1</td>\n",
       "      <td>0</td>\n",
       "      <td>Jan-00</td>\n",
       "      <td>27</td>\n",
       "      <td>18</td>\n",
       "      <td>0</td>\n",
       "      <td>2PT Field Goal</td>\n",
       "      <td>Right Side(R)</td>\n",
       "      <td>Mid-Range</td>\n",
       "      <td>2000/10/31</td>\n",
       "      <td>LAL @ POR</td>\n",
       "      <td>POR</td>\n",
       "    </tr>\n",
       "    <tr>\n",
       "      <th>1</th>\n",
       "      <td>Jump Shot</td>\n",
       "      <td>Jump Shot</td>\n",
       "      <td>20000012</td>\n",
       "      <td>10</td>\n",
       "      <td>1</td>\n",
       "      <td>0</td>\n",
       "      <td>Jan-00</td>\n",
       "      <td>22</td>\n",
       "      <td>15</td>\n",
       "      <td>0</td>\n",
       "      <td>2PT Field Goal</td>\n",
       "      <td>Left Side(L)</td>\n",
       "      <td>Mid-Range</td>\n",
       "      <td>2000/10/31</td>\n",
       "      <td>LAL @ POR</td>\n",
       "      <td>POR</td>\n",
       "    </tr>\n",
       "    <tr>\n",
       "      <th>2</th>\n",
       "      <td>Jump Shot</td>\n",
       "      <td>Jump Shot</td>\n",
       "      <td>20000012</td>\n",
       "      <td>7</td>\n",
       "      <td>1</td>\n",
       "      <td>0</td>\n",
       "      <td>Jan-00</td>\n",
       "      <td>45</td>\n",
       "      <td>16</td>\n",
       "      <td>0</td>\n",
       "      <td>2PT Field Goal</td>\n",
       "      <td>Left Side Center(LC)</td>\n",
       "      <td>Mid-Range</td>\n",
       "      <td>2000/10/31</td>\n",
       "      <td>LAL @ POR</td>\n",
       "      <td>POR</td>\n",
       "    </tr>\n",
       "    <tr>\n",
       "      <th>3</th>\n",
       "      <td>Jump Shot</td>\n",
       "      <td>Jump Shot</td>\n",
       "      <td>20000012</td>\n",
       "      <td>6</td>\n",
       "      <td>1</td>\n",
       "      <td>0</td>\n",
       "      <td>Jan-00</td>\n",
       "      <td>52</td>\n",
       "      <td>22</td>\n",
       "      <td>0</td>\n",
       "      <td>2PT Field Goal</td>\n",
       "      <td>Right Side Center(RC)</td>\n",
       "      <td>Mid-Range</td>\n",
       "      <td>2000/10/31</td>\n",
       "      <td>LAL @ POR</td>\n",
       "      <td>POR</td>\n",
       "    </tr>\n",
       "    <tr>\n",
       "      <th>4</th>\n",
       "      <td>Driving Dunk Shot</td>\n",
       "      <td>Dunk</td>\n",
       "      <td>20000012</td>\n",
       "      <td>6</td>\n",
       "      <td>2</td>\n",
       "      <td>0</td>\n",
       "      <td>Jan-00</td>\n",
       "      <td>19</td>\n",
       "      <td>0</td>\n",
       "      <td>0</td>\n",
       "      <td>2PT Field Goal</td>\n",
       "      <td>Center(C)</td>\n",
       "      <td>Restricted Area</td>\n",
       "      <td>2000/10/31</td>\n",
       "      <td>LAL @ POR</td>\n",
       "      <td>POR</td>\n",
       "    </tr>\n",
       "  </tbody>\n",
       "</table>\n",
       "</div>"
      ],
      "text/plain": [
       "         action_type combined_shot_type   game_id  minutes_remaining  period  \\\n",
       "0          Jump Shot          Jump Shot  20000012                 10       1   \n",
       "1          Jump Shot          Jump Shot  20000012                 10       1   \n",
       "2          Jump Shot          Jump Shot  20000012                  7       1   \n",
       "3          Jump Shot          Jump Shot  20000012                  6       1   \n",
       "4  Driving Dunk Shot               Dunk  20000012                  6       2   \n",
       "\n",
       "   playoffs  season  seconds_remaining  shot_distance  shot_made_flag  \\\n",
       "0         0  Jan-00                 27             18               0   \n",
       "1         0  Jan-00                 22             15               0   \n",
       "2         0  Jan-00                 45             16               0   \n",
       "3         0  Jan-00                 52             22               0   \n",
       "4         0  Jan-00                 19              0               0   \n",
       "\n",
       "        shot_type         shot_zone_area  shot_zone_basic   game_date  \\\n",
       "0  2PT Field Goal          Right Side(R)        Mid-Range  2000/10/31   \n",
       "1  2PT Field Goal           Left Side(L)        Mid-Range  2000/10/31   \n",
       "2  2PT Field Goal   Left Side Center(LC)        Mid-Range  2000/10/31   \n",
       "3  2PT Field Goal  Right Side Center(RC)        Mid-Range  2000/10/31   \n",
       "4  2PT Field Goal              Center(C)  Restricted Area  2000/10/31   \n",
       "\n",
       "     matchup opponent  \n",
       "0  LAL @ POR      POR  \n",
       "1  LAL @ POR      POR  \n",
       "2  LAL @ POR      POR  \n",
       "3  LAL @ POR      POR  \n",
       "4  LAL @ POR      POR  "
      ]
     },
     "execution_count": 3,
     "metadata": {},
     "output_type": "execute_result"
    }
   ],
   "source": [
    "data.head()"
   ]
  },
  {
   "cell_type": "code",
   "execution_count": 4,
   "metadata": {},
   "outputs": [
    {
     "data": {
      "text/plain": [
       "(30697, 16)"
      ]
     },
     "execution_count": 4,
     "metadata": {},
     "output_type": "execute_result"
    }
   ],
   "source": [
    "data.shape"
   ]
  },
  {
   "cell_type": "code",
   "execution_count": 5,
   "metadata": {},
   "outputs": [
    {
     "name": "stdout",
     "output_type": "stream",
     "text": [
      "7\n"
     ]
    },
    {
     "data": {
      "text/plain": [
       "array(['Mid-Range', 'Restricted Area', 'In The Paint (Non-RA)',\n",
       "       'Above the Break 3', 'Right Corner 3', 'Backcourt',\n",
       "       'Left Corner 3'], dtype=object)"
      ]
     },
     "execution_count": 5,
     "metadata": {},
     "output_type": "execute_result"
    }
   ],
   "source": [
    "print(len(data[\"shot_zone_basic\"].unique()))\n",
    "data[\"shot_zone_basic\"].unique()"
   ]
  },
  {
   "cell_type": "code",
   "execution_count": 6,
   "metadata": {},
   "outputs": [
    {
     "data": {
      "text/plain": [
       "74"
      ]
     },
     "execution_count": 6,
     "metadata": {},
     "output_type": "execute_result"
    }
   ],
   "source": [
    "len(data[\"shot_distance\"].unique())"
   ]
  },
  {
   "cell_type": "code",
   "execution_count": 7,
   "metadata": {},
   "outputs": [
    {
     "name": "stdout",
     "output_type": "stream",
     "text": [
      "ANS:  0\n"
     ]
    }
   ],
   "source": [
    "#(1)\n",
    "print(\"ANS: \",data.groupby(['shot_distance']).size().nlargest(1).index.values[0])"
   ]
  },
  {
   "cell_type": "code",
   "execution_count": 8,
   "metadata": {},
   "outputs": [
    {
     "name": "stdout",
     "output_type": "stream",
     "text": [
      "ANS:  Center(C)\n"
     ]
    }
   ],
   "source": [
    "#(2)\n",
    "print(\"ANS: \",data[data[\"shot_made_flag\"]==1].groupby(['shot_zone_area']).size().nlargest(1).index.values[0])"
   ]
  },
  {
   "cell_type": "code",
   "execution_count": 9,
   "metadata": {},
   "outputs": [
    {
     "name": "stdout",
     "output_type": "stream",
     "text": [
      "ANS: \n",
      "2PT Field Goal:  0.384\n",
      "3PT Field Goal:  0.256\n"
     ]
    },
    {
     "name": "stderr",
     "output_type": "stream",
     "text": [
      "/anaconda3/lib/python3.7/site-packages/ipykernel_launcher.py:3: UserWarning: Boolean Series key will be reindexed to match DataFrame index.\n",
      "  This is separate from the ipykernel package so we can avoid doing imports until\n",
      "/anaconda3/lib/python3.7/site-packages/ipykernel_launcher.py:4: UserWarning: Boolean Series key will be reindexed to match DataFrame index.\n",
      "  after removing the cwd from sys.path.\n"
     ]
    }
   ],
   "source": [
    "#(3)\n",
    "print(\"ANS: \")\n",
    "print(\"2PT Field Goal: \",round(len(data[data[\"opponent\"]==\"SAS\"][data[\"shot_made_flag\"]==1][data[\"shot_type\"]==\"2PT Field Goal\"])/len(data[data[\"opponent\"]==\"SAS\"][data[\"shot_type\"]==\"2PT Field Goal\"]),3))\n",
    "print(\"3PT Field Goal: \",round(len(data[data[\"opponent\"]==\"SAS\"][data[\"shot_made_flag\"]==1][data[\"shot_type\"]==\"3PT Field Goal\"])/len(data[data[\"opponent\"]==\"SAS\"][data[\"shot_type\"]==\"3PT Field Goal\"]),3))"
   ]
  },
  {
   "cell_type": "code",
   "execution_count": 10,
   "metadata": {
    "scrolled": true
   },
   "outputs": [
    {
     "name": "stdout",
     "output_type": "stream",
     "text": [
      "ANS: \n",
      " opponent\n",
      "SAS    91\n",
      "PHX    87\n",
      "UTA    84\n",
      "DEN    83\n",
      "POR    81\n",
      "dtype: int64\n"
     ]
    }
   ],
   "source": [
    "#(4)\n",
    "print(\"ANS: \\n\", data.groupby([\"game_id\",\"opponent\"]).mean().reset_index()[[\"game_id\",\"opponent\"]].groupby([\"opponent\"]).size().nlargest())"
   ]
  },
  {
   "cell_type": "code",
   "execution_count": 11,
   "metadata": {},
   "outputs": [
    {
     "name": "stdout",
     "output_type": "stream",
     "text": [
      "ANS: \n"
     ]
    },
    {
     "data": {
      "text/plain": [
       "opponent\n",
       "PHX    17.71\n",
       "MEM    17.43\n",
       "SAC    17.36\n",
       "NYK    17.21\n",
       "GSW    17.13\n",
       "dtype: float64"
      ]
     },
     "execution_count": 11,
     "metadata": {},
     "output_type": "execute_result"
    }
   ],
   "source": [
    "#(5)\n",
    "data[\"shot_type_score\"]=data[\"shot_type\"].str.get(0).astype(int)\n",
    "print(\"ANS: \")\n",
    "round(data[data[\"shot_made_flag\"]==1].groupby([\"opponent\"])[\"shot_type_score\"].sum()/data.groupby([\"game_id\",\"opponent\"]).mean().reset_index()[[\"game_id\",\"opponent\"]].groupby([\"opponent\"]).size(),2).nlargest()"
   ]
  },
  {
   "cell_type": "code",
   "execution_count": 12,
   "metadata": {},
   "outputs": [
    {
     "name": "stdout",
     "output_type": "stream",
     "text": [
      "ANS: \n"
     ]
    },
    {
     "name": "stderr",
     "output_type": "stream",
     "text": [
      "/anaconda3/lib/python3.7/site-packages/ipykernel_launcher.py:3: UserWarning: Boolean Series key will be reindexed to match DataFrame index.\n",
      "  This is separate from the ipykernel package so we can avoid doing imports until\n"
     ]
    },
    {
     "data": {
      "text/plain": [
       "game_id\n",
       "20900706    19\n",
       "21200906    18\n",
       "40500156    18\n",
       "20500471    17\n",
       "21400056    17\n",
       "Name: shot_type_score, dtype: int64"
      ]
     },
     "execution_count": 12,
     "metadata": {},
     "output_type": "execute_result"
    }
   ],
   "source": [
    "#(6)\n",
    "print(\"ANS: \")\n",
    "data[data[\"minutes_remaining\"]<=2][data[\"shot_made_flag\"]==1].groupby([\"game_id\"])[\"shot_type_score\"].sum().nlargest()"
   ]
  },
  {
   "cell_type": "code",
   "execution_count": 13,
   "metadata": {},
   "outputs": [
    {
     "name": "stderr",
     "output_type": "stream",
     "text": [
      "/anaconda3/lib/python3.7/site-packages/ipykernel_launcher.py:2: UserWarning: Boolean Series key will be reindexed to match DataFrame index.\n",
      "  \n"
     ]
    },
    {
     "name": "stdout",
     "output_type": "stream",
     "text": [
      "ANS: \n"
     ]
    },
    {
     "data": {
      "text/plain": [
       "game_date_year\n",
       "1996    0.429\n",
       "1997    0.240\n",
       "1998    0.171\n",
       "1999    0.232\n",
       "2000    0.211\n",
       "2001    0.190\n",
       "2002    0.186\n",
       "2003    0.163\n",
       "2004    0.181\n",
       "2005    0.216\n",
       "2006    0.183\n",
       "2007    0.284\n",
       "2008    0.130\n",
       "2009    0.148\n",
       "2010    0.188\n",
       "2011    0.109\n",
       "2012    0.217\n",
       "2013    0.196\n",
       "2014    0.038\n",
       "2015    0.176\n",
       "2016    0.059\n",
       "dtype: float64"
      ]
     },
     "execution_count": 13,
     "metadata": {},
     "output_type": "execute_result"
    }
   ],
   "source": [
    "#(7)\n",
    "data0=data[data[\"playoffs\"]==0][data[\"minutes_remaining\"]==0][data[\"seconds_remaining\"]<=30][data[\"action_type\"]==\"Jump Shot\"]\n",
    "data0[\"game_date_year\"]=data0[\"game_date\"].str.split(\"/\").str.get(0)\n",
    "print(\"ANS: \"); round(data0[data0[\"shot_made_flag\"]==1].groupby([\"game_date_year\"]).size()/data0.groupby([\"game_date_year\"]).size(),3)"
   ]
  },
  {
   "cell_type": "code",
   "execution_count": 14,
   "metadata": {},
   "outputs": [
    {
     "name": "stderr",
     "output_type": "stream",
     "text": [
      "/anaconda3/lib/python3.7/site-packages/ipykernel_launcher.py:2: UserWarning: Boolean Series key will be reindexed to match DataFrame index.\n",
      "  \n",
      "/anaconda3/lib/python3.7/site-packages/ipykernel_launcher.py:4: UserWarning: Boolean Series key will be reindexed to match DataFrame index.\n",
      "  after removing the cwd from sys.path.\n"
     ]
    },
    {
     "data": {
      "text/html": [
       "<div>\n",
       "<style scoped>\n",
       "    .dataframe tbody tr th:only-of-type {\n",
       "        vertical-align: middle;\n",
       "    }\n",
       "\n",
       "    .dataframe tbody tr th {\n",
       "        vertical-align: top;\n",
       "    }\n",
       "\n",
       "    .dataframe thead th {\n",
       "        text-align: right;\n",
       "    }\n",
       "</style>\n",
       "<table border=\"1\" class=\"dataframe\">\n",
       "  <thead>\n",
       "    <tr style=\"text-align: right;\">\n",
       "      <th></th>\n",
       "      <th>opponent</th>\n",
       "      <th>score_difference</th>\n",
       "    </tr>\n",
       "  </thead>\n",
       "  <tbody>\n",
       "    <tr>\n",
       "      <th>7</th>\n",
       "      <td>NJN</td>\n",
       "      <td>0.054</td>\n",
       "    </tr>\n",
       "    <tr>\n",
       "      <th>15</th>\n",
       "      <td>SAS</td>\n",
       "      <td>0.044</td>\n",
       "    </tr>\n",
       "    <tr>\n",
       "      <th>17</th>\n",
       "      <td>UTA</td>\n",
       "      <td>0.033</td>\n",
       "    </tr>\n",
       "    <tr>\n",
       "      <th>9</th>\n",
       "      <td>OKC</td>\n",
       "      <td>0.021</td>\n",
       "    </tr>\n",
       "    <tr>\n",
       "      <th>1</th>\n",
       "      <td>DAL</td>\n",
       "      <td>0.018</td>\n",
       "    </tr>\n",
       "    <tr>\n",
       "      <th>12</th>\n",
       "      <td>PHX</td>\n",
       "      <td>0.016</td>\n",
       "    </tr>\n",
       "    <tr>\n",
       "      <th>2</th>\n",
       "      <td>DEN</td>\n",
       "      <td>0.009</td>\n",
       "    </tr>\n",
       "    <tr>\n",
       "      <th>8</th>\n",
       "      <td>NOH</td>\n",
       "      <td>0.009</td>\n",
       "    </tr>\n",
       "    <tr>\n",
       "      <th>10</th>\n",
       "      <td>ORL</td>\n",
       "      <td>0.008</td>\n",
       "    </tr>\n",
       "    <tr>\n",
       "      <th>0</th>\n",
       "      <td>BOS</td>\n",
       "      <td>0.005</td>\n",
       "    </tr>\n",
       "  </tbody>\n",
       "</table>\n",
       "</div>"
      ],
      "text/plain": [
       "   opponent  score_difference\n",
       "7       NJN             0.054\n",
       "15      SAS             0.044\n",
       "17      UTA             0.033\n",
       "9       OKC             0.021\n",
       "1       DAL             0.018\n",
       "12      PHX             0.016\n",
       "2       DEN             0.009\n",
       "8       NOH             0.009\n",
       "10      ORL             0.008\n",
       "0       BOS             0.005"
      ]
     },
     "execution_count": 14,
     "metadata": {},
     "output_type": "execute_result"
    }
   ],
   "source": [
    "#(8)\n",
    "data0=data[data[\"playoffs\"]==0][data[\"shot_type\"]==\"2PT Field Goal\"] #正規賽\n",
    "data0=(data0[data0[\"shot_made_flag\"]==1].groupby([\"opponent\"]).size()/data0.groupby([\"opponent\"]).size()).reset_index()\n",
    "data1=data[data[\"playoffs\"]==1][data[\"shot_type\"]==\"2PT Field Goal\"] #季後賽\n",
    "data1=(data1[data1[\"shot_made_flag\"]==1].groupby([\"opponent\"]).size()/data1.groupby([\"opponent\"]).size()).reset_index()\n",
    "data2=pd.merge(data1,data0,on=\"opponent\")\n",
    "data2[\"score_difference\"]=round(data2[\"0_x\"]-data2[\"0_y\"],3)\n",
    "data2[[\"opponent\",\"score_difference\"]][data2[\"score_difference\"]>0].nlargest(data2[data2[\"score_difference\"]>0].shape[0],\"score_difference\")"
   ]
  },
  {
   "cell_type": "code",
   "execution_count": 15,
   "metadata": {},
   "outputs": [],
   "source": [
    "#(9)\n",
    "data3=(data[data[\"shot_made_flag\"]==1].groupby([\"game_date\"])[\"shot_type_score\"].sum()).reset_index()\n",
    "data3[\"game_datetime\"]=pd.to_datetime(data3[\"game_date\"])\n",
    "data3.sort_values('game_datetime', inplace=True)\n",
    "data3[\"row_index\"]=np.arange(0, data3.shape[0])\n",
    "data3=data3[data3[\"shot_type_score\"]>=25]"
   ]
  },
  {
   "cell_type": "code",
   "execution_count": 16,
   "metadata": {},
   "outputs": [
    {
     "name": "stderr",
     "output_type": "stream",
     "text": [
      "/anaconda3/lib/python3.7/site-packages/pandas/core/indexing.py:189: SettingWithCopyWarning: \n",
      "A value is trying to be set on a copy of a slice from a DataFrame\n",
      "\n",
      "See the caveats in the documentation: http://pandas.pydata.org/pandas-docs/stable/indexing.html#indexing-view-versus-copy\n",
      "  self._setitem_with_indexer(indexer, value)\n"
     ]
    }
   ],
   "source": [
    "data3[\"rank\"]=0\n",
    "count=0\n",
    "for i in range(data3.shape[0]-1):\n",
    "    if data3[\"row_index\"].iloc[i+1]-data3[\"row_index\"].iloc[i]!=1: count+=1\n",
    "    data3[\"rank\"].iloc[i+1]=count"
   ]
  },
  {
   "cell_type": "code",
   "execution_count": 17,
   "metadata": {},
   "outputs": [
    {
     "data": {
      "text/plain": [
       "rank\n",
       "26    5\n",
       "61    5\n",
       "75    5\n",
       "7     4\n",
       "46    3\n",
       "dtype: int64"
      ]
     },
     "execution_count": 17,
     "metadata": {},
     "output_type": "execute_result"
    }
   ],
   "source": [
    "data3.groupby([\"rank\"]).size().nlargest()"
   ]
  },
  {
   "cell_type": "code",
   "execution_count": 18,
   "metadata": {},
   "outputs": [],
   "source": [
    "#(10)\n",
    "dataRegular=data[data[\"playoffs\"]==0]\n",
    "dataPlayoffs=data[data[\"playoffs\"]==1]"
   ]
  },
  {
   "cell_type": "code",
   "execution_count": 19,
   "metadata": {},
   "outputs": [
    {
     "name": "stdout",
     "output_type": "stream",
     "text": [
      "Regular + Jump Shot\n",
      "opponent\n",
      "NOP    13.0625\n",
      "NYK    12.8529\n",
      "HOU    12.5410\n",
      "POR    12.0492\n",
      "SEA    11.8810\n",
      "dtype: float64 \n",
      "\n",
      "Regular + Dunk\n",
      "opponent\n",
      "BKN    4.0000\n",
      "TOR    3.7333\n",
      "DET    3.2000\n",
      "MEM    3.1429\n",
      "CHI    3.1250\n",
      "dtype: float64 \n",
      "\n",
      "Regular + Layup\n",
      "opponent\n",
      "POR    4.5517\n",
      "MEM    4.2128\n",
      "ATL    4.1600\n",
      "GSW    4.1212\n",
      "PHX    4.1053\n",
      "dtype: float64 \n",
      "\n",
      "Regular + Tip Shot\n",
      "opponent\n",
      "BKN    2.0000\n",
      "BOS    2.0000\n",
      "NOH    2.0000\n",
      "NOP    2.0000\n",
      "MIL    1.3333\n",
      "dtype: float64 \n",
      "\n",
      "Regular + Hook Shot\n",
      "opponent\n",
      "BKN    2.0\n",
      "HOU    2.0\n",
      "MEM    2.0\n",
      "NOH    2.0\n",
      "NOP    2.0\n",
      "dtype: float64 \n",
      "\n",
      "Regular + Bank Shot\n",
      "opponent\n",
      "WAS    3.0\n",
      "ATL    2.0\n",
      "BOS    2.0\n",
      "CHA    2.0\n",
      "IND    2.0\n",
      "dtype: float64 \n",
      "\n"
     ]
    }
   ],
   "source": [
    "for i in dataRegular[\"combined_shot_type\"].unique():\n",
    "    print(\"Regular +\", i)\n",
    "    data_i=dataRegular[dataRegular[\"combined_shot_type\"]==i]\n",
    "    print(round(data_i[data_i[\"shot_made_flag\"]==1].groupby([\"opponent\"])[\"shot_type_score\"].sum()/data_i.groupby([\"game_id\",\"opponent\"]).mean().reset_index()[[\"game_id\",\"opponent\"]].groupby([\"opponent\"]).size(),4).nlargest(),\"\\n\")"
   ]
  },
  {
   "cell_type": "code",
   "execution_count": 20,
   "metadata": {},
   "outputs": [
    {
     "name": "stdout",
     "output_type": "stream",
     "text": [
      "Playoffs + Jump Shot\n",
      "opponent\n",
      "ORL    17.4000\n",
      "DAL    15.2500\n",
      "PHX    14.3043\n",
      "BOS    14.0000\n",
      "SAC    13.6875\n",
      "dtype: float64 \n",
      "\n",
      "Playoffs + Layup\n",
      "opponent\n",
      "SAS    4.9655\n",
      "SAC    4.2500\n",
      "DEN    4.1176\n",
      "DET    4.0000\n",
      "MIN    4.0000\n",
      "dtype: float64 \n",
      "\n",
      "Playoffs + Tip Shot\n",
      "opponent\n",
      "HOU    2.0\n",
      "PHI    2.0\n",
      "PHX    2.0\n",
      "POR    2.0\n",
      "IND    1.0\n",
      "dtype: float64 \n",
      "\n",
      "Playoffs + Dunk\n",
      "opponent\n",
      "OKC    6.0000\n",
      "DET    3.5000\n",
      "SAS    3.0588\n",
      "MIN    2.8571\n",
      "NOH    2.6667\n",
      "dtype: float64 \n",
      "\n",
      "Playoffs + Hook Shot\n",
      "opponent\n",
      "SAS    4.0\n",
      "DAL    2.0\n",
      "DEN    2.0\n",
      "HOU    2.0\n",
      "NOH    2.0\n",
      "dtype: float64 \n",
      "\n",
      "Playoffs + Bank Shot\n",
      "opponent\n",
      "HOU    4.0\n",
      "BOS    3.0\n",
      "DEN    2.5\n",
      "NOH    2.0\n",
      "OKC    2.0\n",
      "dtype: float64 \n",
      "\n"
     ]
    }
   ],
   "source": [
    "for i in dataPlayoffs[\"combined_shot_type\"].unique():\n",
    "    print(\"Playoffs +\", i)\n",
    "    data_i=dataPlayoffs[dataPlayoffs[\"combined_shot_type\"]==i]\n",
    "    print(round(data_i[data_i[\"shot_made_flag\"]==1].groupby([\"opponent\"])[\"shot_type_score\"].sum()/data_i.groupby([\"game_id\",\"opponent\"]).mean().reset_index()[[\"game_id\",\"opponent\"]].groupby([\"opponent\"]).size(),4).nlargest(),\"\\n\")"
   ]
  }
 ],
 "metadata": {
  "kernelspec": {
   "display_name": "Python 3",
   "language": "python",
   "name": "python3"
  },
  "language_info": {
   "codemirror_mode": {
    "name": "ipython",
    "version": 3
   },
   "file_extension": ".py",
   "mimetype": "text/x-python",
   "name": "python",
   "nbconvert_exporter": "python",
   "pygments_lexer": "ipython3",
   "version": "3.7.1"
  }
 },
 "nbformat": 4,
 "nbformat_minor": 2
}
